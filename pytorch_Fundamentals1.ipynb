{
  "nbformat": 4,
  "nbformat_minor": 0,
  "metadata": {
    "colab": {
      "provenance": [],
      "authorship_tag": "ABX9TyMGerMfqv3F48ILUNvcUoYp",
      "include_colab_link": true
    },
    "kernelspec": {
      "name": "python3",
      "display_name": "Python 3"
    },
    "language_info": {
      "name": "python"
    }
  },
  "cells": [
    {
      "cell_type": "markdown",
      "metadata": {
        "id": "view-in-github",
        "colab_type": "text"
      },
      "source": [
        "<a href=\"https://colab.research.google.com/github/MOHAMMEDHASSAN1981/AI-MEP-Engineer/blob/main/pytorch_Fundamentals1.ipynb\" target=\"_parent\"><img src=\"https://colab.research.google.com/assets/colab-badge.svg\" alt=\"Open In Colab\"/></a>"
      ]
    },
    {
      "cell_type": "code",
      "execution_count": 5,
      "metadata": {
        "id": "wP95-yz6IW2U"
      },
      "outputs": [],
      "source": [
        "# Import Recommended libraries \n",
        "\n",
        "import torch\n",
        "import numpy as np\n",
        "import pandas as np\n",
        "import matplotlib.pyplot as plt\n",
        "\n"
      ]
    },
    {
      "cell_type": "code",
      "source": [
        "# Review making random Tensor with 4 rows , 5 column , 3 color (image example)\n",
        "random_tensor = torch.rand(4,5,3)\n",
        "random_tensor\n"
      ],
      "metadata": {
        "colab": {
          "base_uri": "https://localhost:8080/"
        },
        "id": "UfMpVaUmLNQ5",
        "outputId": "26ca5649-addf-47f9-e5d1-b9d0276e7aac"
      },
      "execution_count": 6,
      "outputs": [
        {
          "output_type": "execute_result",
          "data": {
            "text/plain": [
              "tensor([[[0.8967, 0.9193, 0.6735],\n",
              "         [0.5628, 0.4900, 0.1843],\n",
              "         [0.4857, 0.6448, 0.4606],\n",
              "         [0.1336, 0.9335, 0.7383],\n",
              "         [0.3890, 0.5749, 0.8848]],\n",
              "\n",
              "        [[0.6588, 0.8290, 0.7429],\n",
              "         [0.3454, 0.6007, 0.2539],\n",
              "         [0.9183, 0.5085, 0.0804],\n",
              "         [0.5580, 0.4716, 0.4832],\n",
              "         [0.2928, 0.9089, 0.0746]],\n",
              "\n",
              "        [[0.3030, 0.7870, 0.2627],\n",
              "         [0.0407, 0.6206, 0.8729],\n",
              "         [0.7934, 0.7340, 0.1410],\n",
              "         [0.9703, 0.1457, 0.5938],\n",
              "         [0.8804, 0.7835, 0.6873]],\n",
              "\n",
              "        [[0.7563, 0.9048, 0.0855],\n",
              "         [0.2005, 0.5586, 0.0991],\n",
              "         [0.3388, 0.5195, 0.5170],\n",
              "         [0.8159, 0.6859, 0.1488],\n",
              "         [0.5655, 0.9603, 0.1021]]])"
            ]
          },
          "metadata": {},
          "execution_count": 6
        }
      ]
    },
    {
      "cell_type": "code",
      "source": [
        "# Zeros & Ones \n",
        "# Creat Zeros tensor\n",
        "zeros = torch.zeros(3,3,6)\n",
        "zeros\n"
      ],
      "metadata": {
        "colab": {
          "base_uri": "https://localhost:8080/"
        },
        "id": "-RdWzPZbMpxW",
        "outputId": "d8aa60e6-7eb4-4e12-85a1-cdc34f8d4fdd"
      },
      "execution_count": 7,
      "outputs": [
        {
          "output_type": "execute_result",
          "data": {
            "text/plain": [
              "tensor([[[0., 0., 0., 0., 0., 0.],\n",
              "         [0., 0., 0., 0., 0., 0.],\n",
              "         [0., 0., 0., 0., 0., 0.]],\n",
              "\n",
              "        [[0., 0., 0., 0., 0., 0.],\n",
              "         [0., 0., 0., 0., 0., 0.],\n",
              "         [0., 0., 0., 0., 0., 0.]],\n",
              "\n",
              "        [[0., 0., 0., 0., 0., 0.],\n",
              "         [0., 0., 0., 0., 0., 0.],\n",
              "         [0., 0., 0., 0., 0., 0.]]])"
            ]
          },
          "metadata": {},
          "execution_count": 7
        }
      ]
    },
    {
      "cell_type": "code",
      "source": [
        "# Creat Ones tensor\n",
        "ones = torch.ones(2,2,8)\n",
        "ones"
      ],
      "metadata": {
        "colab": {
          "base_uri": "https://localhost:8080/"
        },
        "id": "Ld7SbeyBNoBD",
        "outputId": "dd9033e4-9e34-47ee-9db5-993f98c624de"
      },
      "execution_count": 10,
      "outputs": [
        {
          "output_type": "execute_result",
          "data": {
            "text/plain": [
              "tensor([[[1., 1., 1., 1., 1., 1., 1., 1.],\n",
              "         [1., 1., 1., 1., 1., 1., 1., 1.]],\n",
              "\n",
              "        [[1., 1., 1., 1., 1., 1., 1., 1.],\n",
              "         [1., 1., 1., 1., 1., 1., 1., 1.]]])"
            ]
          },
          "metadata": {},
          "execution_count": 10
        }
      ]
    },
    {
      "cell_type": "code",
      "source": [
        "# Creat arange (torch.arange(start = 0 end = 50 step=5))\n",
        "zeros_arrange = torch.arange(start=0 , end=100 , step= 5)\n",
        "zeros_arrange"
      ],
      "metadata": {
        "colab": {
          "base_uri": "https://localhost:8080/"
        },
        "id": "qqGQjd_lTDTj",
        "outputId": "1a7eb501-843f-4eff-d1ae-52cbc97e1106"
      },
      "execution_count": 11,
      "outputs": [
        {
          "output_type": "execute_result",
          "data": {
            "text/plain": [
              "tensor([ 0,  5, 10, 15, 20, 25, 30, 35, 40, 45, 50, 55, 60, 65, 70, 75, 80, 85,\n",
              "        90, 95])"
            ]
          },
          "metadata": {},
          "execution_count": 11
        }
      ]
    },
    {
      "cell_type": "code",
      "source": [
        "# creat zeros like input pervious zero_arrange \n",
        "zero_like = torch.zeros_like(input=zeros_arrange)\n",
        "zero_like"
      ],
      "metadata": {
        "colab": {
          "base_uri": "https://localhost:8080/"
        },
        "id": "KzHRvARQUbzU",
        "outputId": "f9e73712-5486-439a-c8bc-48e14e4bd816"
      },
      "execution_count": 12,
      "outputs": [
        {
          "output_type": "execute_result",
          "data": {
            "text/plain": [
              "tensor([0, 0, 0, 0, 0, 0, 0, 0, 0, 0, 0, 0, 0, 0, 0, 0, 0, 0, 0, 0])"
            ]
          },
          "metadata": {},
          "execution_count": 12
        }
      ]
    },
    {
      "cell_type": "code",
      "source": [
        "# Creat ones like pervious zero_like\n",
        "ones_like = torch.ones_like(input=zero_like)\n",
        "ones_like"
      ],
      "metadata": {
        "colab": {
          "base_uri": "https://localhost:8080/"
        },
        "id": "T-_eqZYUVOBH",
        "outputId": "4f274ad2-4aea-4126-f7a1-292872cae3e6"
      },
      "execution_count": 14,
      "outputs": [
        {
          "output_type": "execute_result",
          "data": {
            "text/plain": [
              "tensor([1, 1, 1, 1, 1, 1, 1, 1, 1, 1, 1, 1, 1, 1, 1, 1, 1, 1, 1, 1])"
            ]
          },
          "metadata": {},
          "execution_count": 14
        }
      ]
    },
    {
      "cell_type": "code",
      "source": [
        "# Default datatype for tensors is float32\n",
        "float_32_tensor = torch.tensor([3.0, 6.0, 9.0],\n",
        "                               dtype=None, # defaults to None, which is torch.float32 or whatever datatype is passed\n",
        "                               device=None, # defaults to None, which uses the default tensor type\n",
        "                               requires_grad=False) # if True, operations performed on the tensor are recorded \n",
        "\n",
        "float_32_tensor.shape, float_32_tensor.dtype, float_32_tensor.device"
      ],
      "metadata": {
        "colab": {
          "base_uri": "https://localhost:8080/"
        },
        "id": "IxLHvsp0WvWo",
        "outputId": "a0515842-069c-43f3-b352-bf008e9be0ad"
      },
      "execution_count": 15,
      "outputs": [
        {
          "output_type": "execute_result",
          "data": {
            "text/plain": [
              "(torch.Size([3]), torch.float32, device(type='cpu'))"
            ]
          },
          "metadata": {},
          "execution_count": 15
        }
      ]
    },
    {
      "cell_type": "code",
      "source": [
        "# Got informations from tensor torch.shape , torch.dtype , torch.device\n",
        "some_tensor = torch.rand(3,4,2)\n",
        "some_tensor.shape"
      ],
      "metadata": {
        "colab": {
          "base_uri": "https://localhost:8080/"
        },
        "id": "ExYtfBixXkZD",
        "outputId": "989b5bcb-b7cf-4927-ac57-f8116b3c3960"
      },
      "execution_count": 17,
      "outputs": [
        {
          "output_type": "execute_result",
          "data": {
            "text/plain": [
              "torch.Size([3, 4, 2])"
            ]
          },
          "metadata": {},
          "execution_count": 17
        }
      ]
    },
    {
      "cell_type": "code",
      "source": [
        "print(f\"Shape of tensor : {some_tensor.shape}\")\n"
      ],
      "metadata": {
        "colab": {
          "base_uri": "https://localhost:8080/"
        },
        "id": "3JoRGpKMY6Pl",
        "outputId": "d35f18eb-7500-476c-b3dd-e00ed2c65dbf"
      },
      "execution_count": 18,
      "outputs": [
        {
          "output_type": "stream",
          "name": "stdout",
          "text": [
            "Shape of tensor : torch.Size([3, 4, 2])\n"
          ]
        }
      ]
    },
    {
      "cell_type": "code",
      "source": [
        "print(some_tensor)"
      ],
      "metadata": {
        "colab": {
          "base_uri": "https://localhost:8080/"
        },
        "id": "wBE0r2oWZ6Vs",
        "outputId": "3f570720-1445-4562-ded3-a0cd7105214e"
      },
      "execution_count": 19,
      "outputs": [
        {
          "output_type": "stream",
          "name": "stdout",
          "text": [
            "tensor([[[0.3888, 0.6581],\n",
            "         [0.9091, 0.1848],\n",
            "         [0.6497, 0.2181],\n",
            "         [0.8298, 0.6725]],\n",
            "\n",
            "        [[0.7775, 0.2025],\n",
            "         [0.3918, 0.3450],\n",
            "         [0.4621, 0.7413],\n",
            "         [0.4017, 0.3992]],\n",
            "\n",
            "        [[0.0959, 0.5017],\n",
            "         [0.3826, 0.9838],\n",
            "         [0.0039, 0.3942],\n",
            "         [0.0474, 0.2792]]])\n"
          ]
        }
      ]
    }
  ]
}