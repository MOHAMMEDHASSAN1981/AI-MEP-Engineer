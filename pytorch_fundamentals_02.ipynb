{
  "nbformat": 4,
  "nbformat_minor": 0,
  "metadata": {
    "colab": {
      "provenance": [],
      "authorship_tag": "ABX9TyMaTui1v9Oc4m2+/qQzLCO7",
      "include_colab_link": true
    },
    "kernelspec": {
      "name": "python3",
      "display_name": "Python 3"
    },
    "language_info": {
      "name": "python"
    }
  },
  "cells": [
    {
      "cell_type": "markdown",
      "metadata": {
        "id": "view-in-github",
        "colab_type": "text"
      },
      "source": [
        "<a href=\"https://colab.research.google.com/github/MOHAMMEDHASSAN1981/AI-MEP-Engineer/blob/main/pytorch_fundamentals_02.ipynb\" target=\"_parent\"><img src=\"https://colab.research.google.com/assets/colab-badge.svg\" alt=\"Open In Colab\"/></a>"
      ]
    },
    {
      "cell_type": "markdown",
      "source": [
        "**bold text**Tensor datatypes \n",
        "torch.cuda tensor used for GPU\n"
      ],
      "metadata": {
        "id": "lUWF0iFEb9bp"
      }
    },
    {
      "cell_type": "code",
      "source": [
        "# Import essential libraries\n",
        "import torch\n",
        "import numpy as np\n",
        "import pandas as pd\n",
        "import matplotlib.pyplot as plt"
      ],
      "metadata": {
        "id": "wpiTbW5UgTbr"
      },
      "execution_count": 2,
      "outputs": []
    },
    {
      "cell_type": "code",
      "execution_count": 3,
      "metadata": {
        "colab": {
          "base_uri": "https://localhost:8080/"
        },
        "id": "Otw7XhhHbwEV",
        "outputId": "8985dc3c-36c4-410e-9669-74908b48765b"
      },
      "outputs": [
        {
          "output_type": "execute_result",
          "data": {
            "text/plain": [
              "(torch.float32, device(type='cpu'), torch.Size([4]))"
            ]
          },
          "metadata": {},
          "execution_count": 3
        }
      ],
      "source": [
        "# Default datatype for tensor is float32 \n",
        "float32_tensor = torch.tensor([1.2,2.3,3.4,4.5] , \n",
        "                              dtype = None, # by default\n",
        "                              device = None, # by default\n",
        "                              requires_grad = False) # if True operation recorded on the tensor\n",
        "\n",
        "float32_tensor.dtype , float32_tensor.device     , float32_tensor.shape                        \n",
        "\n"
      ]
    },
    {
      "cell_type": "code",
      "source": [
        "\n",
        "Float16_tensor = torch.tensor([2.1,3.2,4.3,5.4] , \n",
        "                              dtype=torch.float16)\n",
        "Float16_tensor"
      ],
      "metadata": {
        "colab": {
          "base_uri": "https://localhost:8080/"
        },
        "id": "frmWCHkajmvd",
        "outputId": "12ba9be5-3232-4c54-f742-4b1220b4f5fc"
      },
      "execution_count": 4,
      "outputs": [
        {
          "output_type": "execute_result",
          "data": {
            "text/plain": [
              "tensor([2.0996, 3.1992, 4.3008, 5.3984], dtype=torch.float16)"
            ]
          },
          "metadata": {},
          "execution_count": 4
        }
      ]
    },
    {
      "cell_type": "markdown",
      "source": [
        "Manipulating tensors"
      ],
      "metadata": {
        "id": "RUKim4j9lSdd"
      }
    },
    {
      "cell_type": "code",
      "source": [
        "#addition \n",
        "tensor = torch.tensor([1,2,3,4])\n",
        "tensor + 10"
      ],
      "metadata": {
        "colab": {
          "base_uri": "https://localhost:8080/"
        },
        "id": "GSyNO3tXla7Z",
        "outputId": "7c068d26-a461-4e6f-8b2e-241147b31c0c"
      },
      "execution_count": 5,
      "outputs": [
        {
          "output_type": "execute_result",
          "data": {
            "text/plain": [
              "tensor([11, 12, 13, 14])"
            ]
          },
          "metadata": {},
          "execution_count": 5
        }
      ]
    },
    {
      "cell_type": "code",
      "source": [
        "# Multiplication \n",
        "tensor * 10\n"
      ],
      "metadata": {
        "colab": {
          "base_uri": "https://localhost:8080/"
        },
        "id": "4UDIahqWm_xx",
        "outputId": "9fd14e8f-285b-4eb7-fced-4607ff1691c7"
      },
      "execution_count": 6,
      "outputs": [
        {
          "output_type": "execute_result",
          "data": {
            "text/plain": [
              "tensor([10, 20, 30, 40])"
            ]
          },
          "metadata": {},
          "execution_count": 6
        }
      ]
    },
    {
      "cell_type": "code",
      "source": [
        "# Subtraction \n",
        "tensor - 0.5"
      ],
      "metadata": {
        "colab": {
          "base_uri": "https://localhost:8080/"
        },
        "id": "YZrFPXsEnmm3",
        "outputId": "9850063f-1cab-4260-9634-778a83d8a2bf"
      },
      "execution_count": 7,
      "outputs": [
        {
          "output_type": "execute_result",
          "data": {
            "text/plain": [
              "tensor([0.5000, 1.5000, 2.5000, 3.5000])"
            ]
          },
          "metadata": {},
          "execution_count": 7
        }
      ]
    },
    {
      "cell_type": "code",
      "source": [
        "# tensor don't change unless reassigned \n",
        "tensor\n",
        "\n"
      ],
      "metadata": {
        "colab": {
          "base_uri": "https://localhost:8080/"
        },
        "id": "az8dc9JHn9bt",
        "outputId": "a499ca45-d38a-44af-e80e-247af5875c01"
      },
      "execution_count": 8,
      "outputs": [
        {
          "output_type": "execute_result",
          "data": {
            "text/plain": [
              "tensor([1, 2, 3, 4])"
            ]
          },
          "metadata": {},
          "execution_count": 8
        }
      ]
    },
    {
      "cell_type": "code",
      "source": [
        "# Substract and reassigned \n",
        "tensor"
      ],
      "metadata": {
        "colab": {
          "base_uri": "https://localhost:8080/"
        },
        "id": "r4q7AgKRnmrF",
        "outputId": "d1bc5487-8cd5-48ee-afa9-c08bbd7e63e4"
      },
      "execution_count": 9,
      "outputs": [
        {
          "output_type": "execute_result",
          "data": {
            "text/plain": [
              "tensor([1, 2, 3, 4])"
            ]
          },
          "metadata": {},
          "execution_count": 9
        }
      ]
    },
    {
      "cell_type": "code",
      "source": [
        "# Original tensor is still unchanged\n",
        "tensor"
      ],
      "metadata": {
        "colab": {
          "base_uri": "https://localhost:8080/"
        },
        "id": "5un9RpqG83Yy",
        "outputId": "b2031a97-32fd-4ece-f53f-849cc42c6cbd"
      },
      "execution_count": 10,
      "outputs": [
        {
          "output_type": "execute_result",
          "data": {
            "text/plain": [
              "tensor([1, 2, 3, 4])"
            ]
          },
          "metadata": {},
          "execution_count": 10
        }
      ]
    },
    {
      "cell_type": "code",
      "source": [
        "print(tensor , '*' , tensor)\n",
        "print(\"equals :\" , tensor * tensor)"
      ],
      "metadata": {
        "colab": {
          "base_uri": "https://localhost:8080/"
        },
        "id": "q1S0MYiT99UQ",
        "outputId": "f949ff5c-2e37-4729-dbf8-40bbdc92fbe4"
      },
      "execution_count": 11,
      "outputs": [
        {
          "output_type": "stream",
          "name": "stdout",
          "text": [
            "tensor([1, 2, 3, 4]) * tensor([1, 2, 3, 4])\n",
            "equals : tensor([ 1,  4,  9, 16])\n"
          ]
        }
      ]
    },
    {
      "cell_type": "code",
      "source": [
        "# Matrix multiplication \n",
        "tensor * tensor"
      ],
      "metadata": {
        "colab": {
          "base_uri": "https://localhost:8080/"
        },
        "id": "r9m0HMUJ_Nl0",
        "outputId": "f9d047c2-6bd7-40ec-979a-62ddc11e0192"
      },
      "execution_count": 12,
      "outputs": [
        {
          "output_type": "execute_result",
          "data": {
            "text/plain": [
              "tensor([ 1,  4,  9, 16])"
            ]
          },
          "metadata": {},
          "execution_count": 12
        }
      ]
    },
    {
      "cell_type": "code",
      "source": [
        "torch.matmul(tensor , tensor)"
      ],
      "metadata": {
        "colab": {
          "base_uri": "https://localhost:8080/"
        },
        "id": "c-i0lsM5_khJ",
        "outputId": "83aeefb5-6870-43a7-d963-685aa6d769b9"
      },
      "execution_count": 13,
      "outputs": [
        {
          "output_type": "execute_result",
          "data": {
            "text/plain": [
              "tensor(30)"
            ]
          },
          "metadata": {},
          "execution_count": 13
        }
      ]
    },
    {
      "cell_type": "code",
      "source": [
        "# Shapes need to be in the right way  \n",
        "tensor_A = torch.tensor([[1, 2],\n",
        "                         [3, 4],\n",
        "                         [5, 6]], dtype=torch.float32)\n",
        "\n",
        "tensor_B = torch.tensor([[7, 10],\n",
        "                         [8, 11], \n",
        "                         [9, 12]], dtype=torch.float32)\n",
        "\n",
        "torch.matmul(tensor_A, tensor_B) # (this will error)"
      ],
      "metadata": {
        "colab": {
          "base_uri": "https://localhost:8080/",
          "height": 201
        },
        "id": "kk4JHnpXEw_N",
        "outputId": "372b8f9f-0915-48e3-bd16-329cd6b85b84"
      },
      "execution_count": 14,
      "outputs": [
        {
          "output_type": "error",
          "ename": "RuntimeError",
          "evalue": "ignored",
          "traceback": [
            "\u001b[0;31m---------------------------------------------------------------------------\u001b[0m",
            "\u001b[0;31mRuntimeError\u001b[0m                              Traceback (most recent call last)",
            "\u001b[0;32m<ipython-input-14-aceec990e652>\u001b[0m in \u001b[0;36m<cell line: 10>\u001b[0;34m()\u001b[0m\n\u001b[1;32m      8\u001b[0m                          [9, 12]], dtype=torch.float32)\n\u001b[1;32m      9\u001b[0m \u001b[0;34m\u001b[0m\u001b[0m\n\u001b[0;32m---> 10\u001b[0;31m \u001b[0mtorch\u001b[0m\u001b[0;34m.\u001b[0m\u001b[0mmatmul\u001b[0m\u001b[0;34m(\u001b[0m\u001b[0mtensor_A\u001b[0m\u001b[0;34m,\u001b[0m \u001b[0mtensor_B\u001b[0m\u001b[0;34m)\u001b[0m \u001b[0;31m# (this will error)\u001b[0m\u001b[0;34m\u001b[0m\u001b[0;34m\u001b[0m\u001b[0m\n\u001b[0m",
            "\u001b[0;31mRuntimeError\u001b[0m: mat1 and mat2 shapes cannot be multiplied (3x2 and 3x2)"
          ]
        }
      ]
    },
    {
      "cell_type": "code",
      "source": [
        "print(tensor_A)\n",
        "print(tensor_B)"
      ],
      "metadata": {
        "colab": {
          "base_uri": "https://localhost:8080/"
        },
        "id": "ju2-4JuVkCsw",
        "outputId": "4836ec37-09aa-422b-87d0-6fe2d306168f"
      },
      "execution_count": 15,
      "outputs": [
        {
          "output_type": "stream",
          "name": "stdout",
          "text": [
            "tensor([[1., 2.],\n",
            "        [3., 4.],\n",
            "        [5., 6.]])\n",
            "tensor([[ 7., 10.],\n",
            "        [ 8., 11.],\n",
            "        [ 9., 12.]])\n"
          ]
        }
      ]
    },
    {
      "cell_type": "code",
      "source": [
        "# view tensor_A & tensor_B.T  T: Transpose\n",
        "print(tensor_A)\n",
        "print(tensor_B.T)"
      ],
      "metadata": {
        "colab": {
          "base_uri": "https://localhost:8080/"
        },
        "id": "KgDB3zUVkExA",
        "outputId": "0679b477-4b69-406e-bc21-3b0e0dff6403"
      },
      "execution_count": 16,
      "outputs": [
        {
          "output_type": "stream",
          "name": "stdout",
          "text": [
            "tensor([[1., 2.],\n",
            "        [3., 4.],\n",
            "        [5., 6.]])\n",
            "tensor([[ 7.,  8.,  9.],\n",
            "        [10., 11., 12.]])\n"
          ]
        }
      ]
    },
    {
      "cell_type": "code",
      "source": [
        "# Multiply tensors\n",
        "torch.mm(tensor_A , tensor_B.T)"
      ],
      "metadata": {
        "colab": {
          "base_uri": "https://localhost:8080/"
        },
        "id": "ds0H-ierldXq",
        "outputId": "08890817-e8b2-4461-f344-4dc23ddd2cca"
      },
      "execution_count": 18,
      "outputs": [
        {
          "output_type": "execute_result",
          "data": {
            "text/plain": [
              "tensor([[ 27.,  30.,  33.],\n",
              "        [ 61.,  68.,  75.],\n",
              "        [ 95., 106., 117.]])"
            ]
          },
          "metadata": {},
          "execution_count": 18
        }
      ]
    },
    {
      "cell_type": "markdown",
      "source": [
        "MATRIX MULTIBLICATION"
      ],
      "metadata": {
        "id": "m7f7VZtUmSlr"
      }
    },
    {
      "cell_type": "code",
      "source": [
        "# Finding min , max , mean , sum , (aggregation)\n",
        "# Creat tensor arange\n",
        "x = torch.arange(0 , 100 , 7)\n",
        "x"
      ],
      "metadata": {
        "colab": {
          "base_uri": "https://localhost:8080/"
        },
        "id": "jXeKbyvZmblT",
        "outputId": "c2dedc8c-deec-49e5-fa8e-9e5c78863cbe"
      },
      "execution_count": 19,
      "outputs": [
        {
          "output_type": "execute_result",
          "data": {
            "text/plain": [
              "tensor([ 0,  7, 14, 21, 28, 35, 42, 49, 56, 63, 70, 77, 84, 91, 98])"
            ]
          },
          "metadata": {},
          "execution_count": 19
        }
      ]
    },
    {
      "cell_type": "code",
      "source": [
        "# Some aggregation\n",
        "print(f\"Minimum : {x.min()}\")"
      ],
      "metadata": {
        "colab": {
          "base_uri": "https://localhost:8080/"
        },
        "id": "Y3IiAqOQn2GV",
        "outputId": "5c183a04-40c7-440f-b106-fb72f2a846e0"
      },
      "execution_count": 20,
      "outputs": [
        {
          "output_type": "stream",
          "name": "stdout",
          "text": [
            "Minimum : 0\n"
          ]
        }
      ]
    },
    {
      "cell_type": "code",
      "source": [
        "# Maximum\n",
        "print(f\"Maximum : {x.max()}\")\n",
        "# Mean\n",
        "print(f\"Mean : {x.type(torch.float32).mean()}\")\n",
        "# Median \n",
        "print(f\"Median : {x.type(torch.float32).median()}\")\n",
        "# Sum\n",
        "print(f\"Sum : {x.sum()}\")"
      ],
      "metadata": {
        "colab": {
          "base_uri": "https://localhost:8080/"
        },
        "id": "QuFZN3BPo9le",
        "outputId": "87968a88-6052-418f-e1f6-8238bddeb451"
      },
      "execution_count": 22,
      "outputs": [
        {
          "output_type": "stream",
          "name": "stdout",
          "text": [
            "Maximum : 98\n",
            "Mean : 49.0\n",
            "Median : 49.0\n",
            "Sum : 735\n"
          ]
        }
      ]
    },
    {
      "cell_type": "code",
      "source": [
        "\n",
        "# Discover torch.max.min.mean.median.sum\n",
        "print((torch.max(x)) , torch.min(x) , torch.mean(x.type(torch.float32)) ,\n",
        "torch.median(x.type(torch.float32)) ,\n",
        "torch.sum(x))"
      ],
      "metadata": {
        "colab": {
          "base_uri": "https://localhost:8080/"
        },
        "id": "zVUvWgv9rQiT",
        "outputId": "69c876d2-cb96-46a0-c32d-535b54bda928"
      },
      "execution_count": 30,
      "outputs": [
        {
          "output_type": "stream",
          "name": "stdout",
          "text": [
            "tensor(98) tensor(0) tensor(49.) tensor(49.) tensor(735)\n"
          ]
        }
      ]
    },
    {
      "cell_type": "code",
      "source": [
        "# Postional argument torch.argmax() , torch.argmin()\n",
        "# Creat a tensor \n",
        "tensor = torch.arange(0 ,100 ,10)\n",
        "print(f\"tensor : {tensor}\")\n",
        "# Return index of max and min\n",
        "print(f\"index_max : {tensor.argmax()}\")\n",
        "print(f\"index_min : {tensor.argmin()}\")\n"
      ],
      "metadata": {
        "colab": {
          "base_uri": "https://localhost:8080/"
        },
        "id": "r0nrXORv0Pfq",
        "outputId": "aaef75f5-73f5-4189-ea37-714957203370"
      },
      "execution_count": 33,
      "outputs": [
        {
          "output_type": "stream",
          "name": "stdout",
          "text": [
            "tensor : tensor([ 0, 10, 20, 30, 40, 50, 60, 70, 80, 90])\n",
            "index_max : 9\n",
            "index_min : 0\n"
          ]
        }
      ]
    },
    {
      "cell_type": "markdown",
      "source": [
        "Change tensor data type"
      ],
      "metadata": {
        "id": "gEiu2_Iq6z0A"
      }
    },
    {
      "cell_type": "code",
      "source": [
        "# Creat tensor \n",
        "tensor = torch.arange(5 ,95 ,10)\n",
        "print(tensor)\n",
        "# Change tensor data type \n",
        "tensor_float_16 = tensor.type(torch.float16)\n",
        "print(tensor_float_16.dtype)\n",
        "# Change tensor data type into integer 8\n",
        "tensor_int8 = tensor.type(torch.int8)\n",
        "print(tensor_int8)\n"
      ],
      "metadata": {
        "colab": {
          "base_uri": "https://localhost:8080/"
        },
        "id": "QPH7OB8o65uX",
        "outputId": "034febe9-d26b-45c6-aada-80fa493f416f"
      },
      "execution_count": 36,
      "outputs": [
        {
          "output_type": "stream",
          "name": "stdout",
          "text": [
            "tensor([ 5, 15, 25, 35, 45, 55, 65, 75, 85])\n",
            "torch.float16\n",
            "tensor([ 5, 15, 25, 35, 45, 55, 65, 75, 85], dtype=torch.int8)\n"
          ]
        }
      ]
    },
    {
      "cell_type": "markdown",
      "source": [
        "Reshaping, stacking, squeezing and unsqueezing¶"
      ],
      "metadata": {
        "id": "aOUUULQP9eKP"
      }
    },
    {
      "cell_type": "code",
      "source": [],
      "metadata": {
        "id": "xbhUfezP92Yv"
      },
      "execution_count": null,
      "outputs": []
    }
  ]
}